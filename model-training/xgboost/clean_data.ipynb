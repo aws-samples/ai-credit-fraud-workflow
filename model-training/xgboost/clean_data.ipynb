{
 "cells": [
  {
   "cell_type": "code",
   "execution_count": 1,
   "metadata": {},
   "outputs": [
    {
     "name": "stdout",
     "output_type": "stream",
     "text": [
      "Collecting duckdb\n",
      "  Downloading duckdb-1.1.2-cp311-cp311-manylinux_2_17_x86_64.manylinux2014_x86_64.whl.metadata (762 bytes)\n",
      "Downloading duckdb-1.1.2-cp311-cp311-manylinux_2_17_x86_64.manylinux2014_x86_64.whl (20.1 MB)\n",
      "\u001b[2K   \u001b[90m━━━━━━━━━━━━━━━━━━━━━━━━━━━━━━━━━━━━━━━━\u001b[0m \u001b[32m20.1/20.1 MB\u001b[0m \u001b[31m56.4 MB/s\u001b[0m eta \u001b[36m0:00:00\u001b[0ma \u001b[36m0:00:01\u001b[0m\n",
      "\u001b[?25hInstalling collected packages: duckdb\n",
      "Successfully installed duckdb-1.1.2\n",
      "Note: you may need to restart the kernel to use updated packages.\n"
     ]
    }
   ],
   "source": [
    "%pip install duckdb"
   ]
  },
  {
   "cell_type": "code",
   "execution_count": 2,
   "metadata": {},
   "outputs": [],
   "source": [
    "import duckdb\n",
    "from pathlib import Path"
   ]
  },
  {
   "cell_type": "code",
   "execution_count": 4,
   "metadata": {},
   "outputs": [
    {
     "data": {
      "application/vnd.jupyter.widget-view+json": {
       "model_id": "439b43e18fc549089a3da72ab0117f57",
       "version_major": 2,
       "version_minor": 0
      },
      "text/plain": [
       "FloatProgress(value=0.0, layout=Layout(width='auto'), style=ProgressStyle(bar_color='black'))"
      ]
     },
     "metadata": {},
     "output_type": "display_data"
    },
    {
     "data": {
      "text/plain": [
       "<duckdb.duckdb.DuckDBPyConnection at 0x7f7aee1b9c70>"
      ]
     },
     "execution_count": 4,
     "metadata": {},
     "output_type": "execute_result"
    }
   ],
   "source": [
    "con = duckdb.connect()\n",
    "con.execute(\"CREATE TABLE training_data AS SELECT * FROM 'data/train.parquet'\")\n",
    "con.execute(\"CREATE TABLE validation_data AS SELECT * FROM 'data/validation.parquet'\")"
   ]
  },
  {
   "cell_type": "code",
   "execution_count": 5,
   "metadata": {},
   "outputs": [],
   "source": [
    "columns_to_drop = [\n",
    "    \"CUSTOMER_ID_index\",\n",
    "    \"customer_name_index\",\n",
    "    \"customer_email_index\",\n",
    "    \"phone_index\",\n",
    "    \"billing_zip\",\n",
    "    \"billing_city_index\",\n",
    "    \"billing_state_index\",\n",
    "    \"x_customer_id\",\n",
    "    \"y_customer_id\",\n",
    "]"
   ]
  },
  {
   "cell_type": "code",
   "execution_count": 6,
   "metadata": {},
   "outputs": [
    {
     "data": {
      "application/vnd.jupyter.widget-view+json": {
       "model_id": "53e4420549e246b2b4e3d4527fefeae6",
       "version_major": 2,
       "version_minor": 0
      },
      "text/plain": [
       "FloatProgress(value=0.0, layout=Layout(width='auto'), style=ProgressStyle(bar_color='black'))"
      ]
     },
     "metadata": {},
     "output_type": "display_data"
    }
   ],
   "source": [
    "for table_name in [\"training_data\", \"validation_data\"]:\n",
    "    # drop bad feature columns\n",
    "    for column in columns_to_drop:\n",
    "        con.execute(f\"ALTER TABLE {table_name} DROP COLUMN {column}\")\n",
    "    \n",
    "    # convert TX_AMOUNT to double\n",
    "    con.execute(f\"ALTER TABLE {table_name} ADD COLUMN TX_AMOUNT_TEMP DOUBLE\")\n",
    "    con.execute(f\"UPDATE {table_name} SET TX_AMOUNT_TEMP = CAST(TX_AMOUNT AS DOUBLE)\")\n",
    "    con.execute(f\"ALTER TABLE {table_name} DROP COLUMN TX_AMOUNT\")\n",
    "    con.execute(f\"ALTER TABLE {table_name} RENAME COLUMN TX_AMOUNT_TEMP TO TX_AMOUNT\")"
   ]
  },
  {
   "cell_type": "code",
   "execution_count": 7,
   "metadata": {},
   "outputs": [],
   "source": [
    "rows_per_file = 1_000_000\n",
    "cleaned_data_path = \"data/cleaned_data\"\n",
    "\n",
    "Path(cleaned_data_path).mkdir(parents=True, exist_ok=True)\n",
    "\n",
    "for table_name in [\"training_data\", \"validation_data\"]:\n",
    "    num_rows = con.execute(f\"SELECT COUNT(*) FROM {table_name}\").fetchone()[0]\n",
    "    \n",
    "    Path(f\"{cleaned_data_path}/{table_name}\").mkdir(parents=True, exist_ok=True)\n",
    "    \n",
    "    for i in range(0, num_rows, rows_per_file):\n",
    "        query = f\"SELECT * FROM {table_name} LIMIT {rows_per_file} OFFSET {i}\"\n",
    "        df = con.execute(query).fetchdf()\n",
    "        \n",
    "        df.to_parquet(f\"{cleaned_data_path}/{table_name}/{table_name}_{i}.parquet\")"
   ]
  },
  {
   "cell_type": "code",
   "execution_count": 8,
   "metadata": {},
   "outputs": [
    {
     "name": "stdout",
     "output_type": "stream",
     "text": [
      "upload: data/cleaned_data/training_data/training_data_0.parquet to s3://sagemaker-us-east-2-386900942011/tech-summit-payments-fraud-workshop-1017/training_data/training_data_0.parquet\n",
      "upload: data/cleaned_data/training_data/training_data_13000000.parquet to s3://sagemaker-us-east-2-386900942011/tech-summit-payments-fraud-workshop-1017/training_data/training_data_13000000.parquet\n",
      "upload: data/cleaned_data/training_data/training_data_1000000.parquet to s3://sagemaker-us-east-2-386900942011/tech-summit-payments-fraud-workshop-1017/training_data/training_data_1000000.parquet\n",
      "upload: data/cleaned_data/training_data/training_data_10000000.parquet to s3://sagemaker-us-east-2-386900942011/tech-summit-payments-fraud-workshop-1017/training_data/training_data_10000000.parquet\n",
      "upload: data/cleaned_data/training_data/training_data_12000000.parquet to s3://sagemaker-us-east-2-386900942011/tech-summit-payments-fraud-workshop-1017/training_data/training_data_12000000.parquet\n",
      "upload: data/cleaned_data/training_data/training_data_15000000.parquet to s3://sagemaker-us-east-2-386900942011/tech-summit-payments-fraud-workshop-1017/training_data/training_data_15000000.parquet\n",
      "upload: data/cleaned_data/training_data/training_data_16000000.parquet to s3://sagemaker-us-east-2-386900942011/tech-summit-payments-fraud-workshop-1017/training_data/training_data_16000000.parquet\n",
      "upload: data/cleaned_data/training_data/training_data_19000000.parquet to s3://sagemaker-us-east-2-386900942011/tech-summit-payments-fraud-workshop-1017/training_data/training_data_19000000.parquet\n",
      "upload: data/cleaned_data/training_data/training_data_17000000.parquet to s3://sagemaker-us-east-2-386900942011/tech-summit-payments-fraud-workshop-1017/training_data/training_data_17000000.parquet\n",
      "upload: data/cleaned_data/training_data/training_data_11000000.parquet to s3://sagemaker-us-east-2-386900942011/tech-summit-payments-fraud-workshop-1017/training_data/training_data_11000000.parquet\n",
      "upload: data/cleaned_data/training_data/training_data_2000000.parquet to s3://sagemaker-us-east-2-386900942011/tech-summit-payments-fraud-workshop-1017/training_data/training_data_2000000.parquet\n",
      "upload: data/cleaned_data/training_data/training_data_18000000.parquet to s3://sagemaker-us-east-2-386900942011/tech-summit-payments-fraud-workshop-1017/training_data/training_data_18000000.parquet\n",
      "upload: data/cleaned_data/training_data/training_data_20000000.parquet to s3://sagemaker-us-east-2-386900942011/tech-summit-payments-fraud-workshop-1017/training_data/training_data_20000000.parquet\n",
      "upload: data/cleaned_data/training_data/training_data_14000000.parquet to s3://sagemaker-us-east-2-386900942011/tech-summit-payments-fraud-workshop-1017/training_data/training_data_14000000.parquet\n",
      "upload: data/cleaned_data/training_data/training_data_23000000.parquet to s3://sagemaker-us-east-2-386900942011/tech-summit-payments-fraud-workshop-1017/training_data/training_data_23000000.parquet\n",
      "upload: data/cleaned_data/training_data/training_data_21000000.parquet to s3://sagemaker-us-east-2-386900942011/tech-summit-payments-fraud-workshop-1017/training_data/training_data_21000000.parquet\n",
      "upload: data/cleaned_data/training_data/training_data_25000000.parquet to s3://sagemaker-us-east-2-386900942011/tech-summit-payments-fraud-workshop-1017/training_data/training_data_25000000.parquet\n",
      "upload: data/cleaned_data/training_data/training_data_26000000.parquet to s3://sagemaker-us-east-2-386900942011/tech-summit-payments-fraud-workshop-1017/training_data/training_data_26000000.parquet\n",
      "upload: data/cleaned_data/training_data/training_data_28000000.parquet to s3://sagemaker-us-east-2-386900942011/tech-summit-payments-fraud-workshop-1017/training_data/training_data_28000000.parquet\n",
      "upload: data/cleaned_data/training_data/training_data_24000000.parquet to s3://sagemaker-us-east-2-386900942011/tech-summit-payments-fraud-workshop-1017/training_data/training_data_24000000.parquet\n",
      "upload: data/cleaned_data/training_data/training_data_22000000.parquet to s3://sagemaker-us-east-2-386900942011/tech-summit-payments-fraud-workshop-1017/training_data/training_data_22000000.parquet\n",
      "upload: data/cleaned_data/training_data/training_data_29000000.parquet to s3://sagemaker-us-east-2-386900942011/tech-summit-payments-fraud-workshop-1017/training_data/training_data_29000000.parquet\n",
      "upload: data/cleaned_data/training_data/training_data_27000000.parquet to s3://sagemaker-us-east-2-386900942011/tech-summit-payments-fraud-workshop-1017/training_data/training_data_27000000.parquet\n",
      "upload: data/cleaned_data/training_data/training_data_30000000.parquet to s3://sagemaker-us-east-2-386900942011/tech-summit-payments-fraud-workshop-1017/training_data/training_data_30000000.parquet\n",
      "upload: data/cleaned_data/training_data/training_data_3000000.parquet to s3://sagemaker-us-east-2-386900942011/tech-summit-payments-fraud-workshop-1017/training_data/training_data_3000000.parquet\n",
      "upload: data/cleaned_data/training_data/training_data_31000000.parquet to s3://sagemaker-us-east-2-386900942011/tech-summit-payments-fraud-workshop-1017/training_data/training_data_31000000.parquet\n",
      "upload: data/cleaned_data/training_data/training_data_32000000.parquet to s3://sagemaker-us-east-2-386900942011/tech-summit-payments-fraud-workshop-1017/training_data/training_data_32000000.parquet\n",
      "upload: data/cleaned_data/training_data/training_data_36000000.parquet to s3://sagemaker-us-east-2-386900942011/tech-summit-payments-fraud-workshop-1017/training_data/training_data_36000000.parquet\n",
      "upload: data/cleaned_data/training_data/training_data_34000000.parquet to s3://sagemaker-us-east-2-386900942011/tech-summit-payments-fraud-workshop-1017/training_data/training_data_34000000.parquet\n",
      "upload: data/cleaned_data/training_data/training_data_38000000.parquet to s3://sagemaker-us-east-2-386900942011/tech-summit-payments-fraud-workshop-1017/training_data/training_data_38000000.parquet\n",
      "upload: data/cleaned_data/training_data/training_data_37000000.parquet to s3://sagemaker-us-east-2-386900942011/tech-summit-payments-fraud-workshop-1017/training_data/training_data_37000000.parquet\n",
      "upload: data/cleaned_data/training_data/training_data_35000000.parquet to s3://sagemaker-us-east-2-386900942011/tech-summit-payments-fraud-workshop-1017/training_data/training_data_35000000.parquet\n",
      "upload: data/cleaned_data/training_data/training_data_33000000.parquet to s3://sagemaker-us-east-2-386900942011/tech-summit-payments-fraud-workshop-1017/training_data/training_data_33000000.parquet\n",
      "upload: data/cleaned_data/training_data/training_data_39000000.parquet to s3://sagemaker-us-east-2-386900942011/tech-summit-payments-fraud-workshop-1017/training_data/training_data_39000000.parquet\n",
      "upload: data/cleaned_data/training_data/training_data_43000000.parquet to s3://sagemaker-us-east-2-386900942011/tech-summit-payments-fraud-workshop-1017/training_data/training_data_43000000.parquet\n",
      "upload: data/cleaned_data/training_data/training_data_41000000.parquet to s3://sagemaker-us-east-2-386900942011/tech-summit-payments-fraud-workshop-1017/training_data/training_data_41000000.parquet\n",
      "upload: data/cleaned_data/training_data/training_data_42000000.parquet to s3://sagemaker-us-east-2-386900942011/tech-summit-payments-fraud-workshop-1017/training_data/training_data_42000000.parquet\n",
      "upload: data/cleaned_data/training_data/training_data_44000000.parquet to s3://sagemaker-us-east-2-386900942011/tech-summit-payments-fraud-workshop-1017/training_data/training_data_44000000.parquet\n",
      "upload: data/cleaned_data/training_data/training_data_4000000.parquet to s3://sagemaker-us-east-2-386900942011/tech-summit-payments-fraud-workshop-1017/training_data/training_data_4000000.parquet\n",
      "upload: data/cleaned_data/training_data/training_data_40000000.parquet to s3://sagemaker-us-east-2-386900942011/tech-summit-payments-fraud-workshop-1017/training_data/training_data_40000000.parquet\n",
      "upload: data/cleaned_data/training_data/training_data_49000000.parquet to s3://sagemaker-us-east-2-386900942011/tech-summit-payments-fraud-workshop-1017/training_data/training_data_49000000.parquet\n",
      "upload: data/cleaned_data/training_data/training_data_48000000.parquet to s3://sagemaker-us-east-2-386900942011/tech-summit-payments-fraud-workshop-1017/training_data/training_data_48000000.parquet\n",
      "upload: data/cleaned_data/training_data/training_data_45000000.parquet to s3://sagemaker-us-east-2-386900942011/tech-summit-payments-fraud-workshop-1017/training_data/training_data_45000000.parquet\n",
      "upload: data/cleaned_data/training_data/training_data_46000000.parquet to s3://sagemaker-us-east-2-386900942011/tech-summit-payments-fraud-workshop-1017/training_data/training_data_46000000.parquet\n",
      "upload: data/cleaned_data/training_data/training_data_5000000.parquet to s3://sagemaker-us-east-2-386900942011/tech-summit-payments-fraud-workshop-1017/training_data/training_data_5000000.parquet\n",
      "upload: data/cleaned_data/training_data/training_data_51000000.parquet to s3://sagemaker-us-east-2-386900942011/tech-summit-payments-fraud-workshop-1017/training_data/training_data_51000000.parquet\n",
      "upload: data/cleaned_data/training_data/training_data_50000000.parquet to s3://sagemaker-us-east-2-386900942011/tech-summit-payments-fraud-workshop-1017/training_data/training_data_50000000.parquet\n",
      "upload: data/cleaned_data/training_data/training_data_53000000.parquet to s3://sagemaker-us-east-2-386900942011/tech-summit-payments-fraud-workshop-1017/training_data/training_data_53000000.parquet\n",
      "upload: data/cleaned_data/training_data/training_data_52000000.parquet to s3://sagemaker-us-east-2-386900942011/tech-summit-payments-fraud-workshop-1017/training_data/training_data_52000000.parquet\n",
      "upload: data/cleaned_data/training_data/training_data_55000000.parquet to s3://sagemaker-us-east-2-386900942011/tech-summit-payments-fraud-workshop-1017/training_data/training_data_55000000.parquet\n",
      "upload: data/cleaned_data/training_data/training_data_47000000.parquet to s3://sagemaker-us-east-2-386900942011/tech-summit-payments-fraud-workshop-1017/training_data/training_data_47000000.parquet\n",
      "upload: data/cleaned_data/training_data/training_data_56000000.parquet to s3://sagemaker-us-east-2-386900942011/tech-summit-payments-fraud-workshop-1017/training_data/training_data_56000000.parquet\n",
      "upload: data/cleaned_data/training_data/training_data_6000000.parquet to s3://sagemaker-us-east-2-386900942011/tech-summit-payments-fraud-workshop-1017/training_data/training_data_6000000.parquet\n",
      "upload: data/cleaned_data/training_data/training_data_57000000.parquet to s3://sagemaker-us-east-2-386900942011/tech-summit-payments-fraud-workshop-1017/training_data/training_data_57000000.parquet\n",
      "upload: data/cleaned_data/training_data/training_data_54000000.parquet to s3://sagemaker-us-east-2-386900942011/tech-summit-payments-fraud-workshop-1017/training_data/training_data_54000000.parquet\n",
      "upload: data/cleaned_data/training_data/training_data_58000000.parquet to s3://sagemaker-us-east-2-386900942011/tech-summit-payments-fraud-workshop-1017/training_data/training_data_58000000.parquet\n",
      "upload: data/cleaned_data/training_data/training_data_59000000.parquet to s3://sagemaker-us-east-2-386900942011/tech-summit-payments-fraud-workshop-1017/training_data/training_data_59000000.parquet\n",
      "upload: data/cleaned_data/training_data/training_data_61000000.parquet to s3://sagemaker-us-east-2-386900942011/tech-summit-payments-fraud-workshop-1017/training_data/training_data_61000000.parquet\n",
      "upload: data/cleaned_data/training_data/training_data_60000000.parquet to s3://sagemaker-us-east-2-386900942011/tech-summit-payments-fraud-workshop-1017/training_data/training_data_60000000.parquet\n",
      "upload: data/cleaned_data/training_data/training_data_64000000.parquet to s3://sagemaker-us-east-2-386900942011/tech-summit-payments-fraud-workshop-1017/training_data/training_data_64000000.parquet\n",
      "upload: data/cleaned_data/training_data/training_data_62000000.parquet to s3://sagemaker-us-east-2-386900942011/tech-summit-payments-fraud-workshop-1017/training_data/training_data_62000000.parquet\n",
      "upload: data/cleaned_data/training_data/training_data_66000000.parquet to s3://sagemaker-us-east-2-386900942011/tech-summit-payments-fraud-workshop-1017/training_data/training_data_66000000.parquet\n",
      "upload: data/cleaned_data/training_data/training_data_67000000.parquet to s3://sagemaker-us-east-2-386900942011/tech-summit-payments-fraud-workshop-1017/training_data/training_data_67000000.parquet\n",
      "upload: data/cleaned_data/training_data/training_data_68000000.parquet to s3://sagemaker-us-east-2-386900942011/tech-summit-payments-fraud-workshop-1017/training_data/training_data_68000000.parquet\n",
      "upload: data/cleaned_data/training_data/training_data_65000000.parquet to s3://sagemaker-us-east-2-386900942011/tech-summit-payments-fraud-workshop-1017/training_data/training_data_65000000.parquet\n",
      "upload: data/cleaned_data/training_data/training_data_69000000.parquet to s3://sagemaker-us-east-2-386900942011/tech-summit-payments-fraud-workshop-1017/training_data/training_data_69000000.parquet\n",
      "upload: data/cleaned_data/training_data/training_data_7000000.parquet to s3://sagemaker-us-east-2-386900942011/tech-summit-payments-fraud-workshop-1017/training_data/training_data_7000000.parquet\n",
      "upload: data/cleaned_data/validation_data/validation_data_0.parquet to s3://sagemaker-us-east-2-386900942011/tech-summit-payments-fraud-workshop-1017/validation_data/validation_data_0.parquet\n",
      "upload: data/cleaned_data/training_data/training_data_8000000.parquet to s3://sagemaker-us-east-2-386900942011/tech-summit-payments-fraud-workshop-1017/training_data/training_data_8000000.parquet\n",
      "upload: data/cleaned_data/training_data/training_data_63000000.parquet to s3://sagemaker-us-east-2-386900942011/tech-summit-payments-fraud-workshop-1017/training_data/training_data_63000000.parquet\n",
      "upload: data/cleaned_data/validation_data/validation_data_1000000.parquet to s3://sagemaker-us-east-2-386900942011/tech-summit-payments-fraud-workshop-1017/validation_data/validation_data_1000000.parquet\n",
      "upload: data/cleaned_data/training_data/training_data_9000000.parquet to s3://sagemaker-us-east-2-386900942011/tech-summit-payments-fraud-workshop-1017/training_data/training_data_9000000.parquet\n",
      "upload: data/cleaned_data/validation_data/validation_data_11000000.parquet to s3://sagemaker-us-east-2-386900942011/tech-summit-payments-fraud-workshop-1017/validation_data/validation_data_11000000.parquet\n",
      "upload: data/cleaned_data/validation_data/validation_data_10000000.parquet to s3://sagemaker-us-east-2-386900942011/tech-summit-payments-fraud-workshop-1017/validation_data/validation_data_10000000.parquet\n",
      "upload: data/cleaned_data/validation_data/validation_data_14000000.parquet to s3://sagemaker-us-east-2-386900942011/tech-summit-payments-fraud-workshop-1017/validation_data/validation_data_14000000.parquet\n",
      "upload: data/cleaned_data/validation_data/validation_data_13000000.parquet to s3://sagemaker-us-east-2-386900942011/tech-summit-payments-fraud-workshop-1017/validation_data/validation_data_13000000.parquet\n",
      "upload: data/cleaned_data/validation_data/validation_data_15000000.parquet to s3://sagemaker-us-east-2-386900942011/tech-summit-payments-fraud-workshop-1017/validation_data/validation_data_15000000.parquet\n",
      "upload: data/cleaned_data/validation_data/validation_data_12000000.parquet to s3://sagemaker-us-east-2-386900942011/tech-summit-payments-fraud-workshop-1017/validation_data/validation_data_12000000.parquet\n",
      "upload: data/cleaned_data/validation_data/validation_data_16000000.parquet to s3://sagemaker-us-east-2-386900942011/tech-summit-payments-fraud-workshop-1017/validation_data/validation_data_16000000.parquet\n",
      "upload: data/cleaned_data/validation_data/validation_data_17000000.parquet to s3://sagemaker-us-east-2-386900942011/tech-summit-payments-fraud-workshop-1017/validation_data/validation_data_17000000.parquet\n",
      "upload: data/cleaned_data/validation_data/validation_data_18000000.parquet to s3://sagemaker-us-east-2-386900942011/tech-summit-payments-fraud-workshop-1017/validation_data/validation_data_18000000.parquet\n",
      "upload: data/cleaned_data/validation_data/validation_data_19000000.parquet to s3://sagemaker-us-east-2-386900942011/tech-summit-payments-fraud-workshop-1017/validation_data/validation_data_19000000.parquet\n",
      "upload: data/cleaned_data/validation_data/validation_data_2000000.parquet to s3://sagemaker-us-east-2-386900942011/tech-summit-payments-fraud-workshop-1017/validation_data/validation_data_2000000.parquet\n",
      "upload: data/cleaned_data/validation_data/validation_data_3000000.parquet to s3://sagemaker-us-east-2-386900942011/tech-summit-payments-fraud-workshop-1017/validation_data/validation_data_3000000.parquet\n",
      "upload: data/cleaned_data/validation_data/validation_data_4000000.parquet to s3://sagemaker-us-east-2-386900942011/tech-summit-payments-fraud-workshop-1017/validation_data/validation_data_4000000.parquet\n",
      "upload: data/cleaned_data/validation_data/validation_data_6000000.parquet to s3://sagemaker-us-east-2-386900942011/tech-summit-payments-fraud-workshop-1017/validation_data/validation_data_6000000.parquet\n",
      "upload: data/cleaned_data/validation_data/validation_data_5000000.parquet to s3://sagemaker-us-east-2-386900942011/tech-summit-payments-fraud-workshop-1017/validation_data/validation_data_5000000.parquet\n",
      "upload: data/cleaned_data/validation_data/validation_data_7000000.parquet to s3://sagemaker-us-east-2-386900942011/tech-summit-payments-fraud-workshop-1017/validation_data/validation_data_7000000.parquet\n",
      "upload: data/cleaned_data/validation_data/validation_data_9000000.parquet to s3://sagemaker-us-east-2-386900942011/tech-summit-payments-fraud-workshop-1017/validation_data/validation_data_9000000.parquet\n",
      "upload: data/cleaned_data/validation_data/validation_data_8000000.parquet to s3://sagemaker-us-east-2-386900942011/tech-summit-payments-fraud-workshop-1017/validation_data/validation_data_8000000.parquet\n"
     ]
    }
   ],
   "source": [
    "!aws s3 sync data/cleaned_data/ s3://sagemaker-us-east-2-386900942011/tech-summit-payments-fraud-workshop-1017/"
   ]
  },
  {
   "cell_type": "code",
   "execution_count": null,
   "metadata": {},
   "outputs": [],
   "source": []
  }
 ],
 "metadata": {
  "kernelspec": {
   "display_name": "Python 3 (ipykernel)",
   "language": "python",
   "name": "python3"
  },
  "language_info": {
   "codemirror_mode": {
    "name": "ipython",
    "version": 3
   },
   "file_extension": ".py",
   "mimetype": "text/x-python",
   "name": "python",
   "nbconvert_exporter": "python",
   "pygments_lexer": "ipython3",
   "version": "3.11.9"
  }
 },
 "nbformat": 4,
 "nbformat_minor": 4
}
