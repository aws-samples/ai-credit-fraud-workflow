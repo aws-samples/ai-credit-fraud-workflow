{
 "cells": [
  {
   "cell_type": "code",
   "execution_count": null,
   "metadata": {},
   "outputs": [],
   "source": [
    "%pip install -Uqq sagemaker"
   ]
  },
  {
   "cell_type": "code",
   "execution_count": null,
   "metadata": {},
   "outputs": [],
   "source": [
    "%pip install modin"
   ]
  },
  {
   "cell_type": "code",
   "execution_count": null,
   "metadata": {},
   "outputs": [],
   "source": [
    "import boto3\n",
    "import json\n",
    "import sagemaker\n",
    "from pathlib import Path\n",
    "from sagemaker.pytorch import PyTorch  # PyTorch Estimator for running our training job\n",
    "\n",
    "role = sagemaker.get_execution_role()  # execution role for the endpoint\n",
    "sess = sagemaker.session.Session()  # sagemaker session for interacting with different AWS APIs\n",
    "region = sess._region_name  # region name of the current SageMaker Studio environment\n",
    "bucket = sess.default_bucket()  # default bucket name\n",
    "account_id = sess.account_id()"
   ]
  },
  {
   "cell_type": "code",
   "execution_count": null,
   "metadata": {},
   "outputs": [],
   "source": [
    "train_data_path = \"s3://nvidia-aws-fraud-detection-demo-1/output121_clean/train/\"\n",
    "test_data_path = \"s3://nvidia-aws-fraud-detection-demo-1/output121_clean/test-small/\""
   ]
  },
  {
   "cell_type": "code",
   "execution_count": null,
   "metadata": {},
   "outputs": [],
   "source": [
    "USE_GPU = True\n",
    "\n",
    "gpu_job = PyTorch(\n",
    "    source_dir=\"src\",\n",
    "    entry_point=\"train.py\",\n",
    "    framework_version=\"2.3\",\n",
    "    py_version=\"py311\",\n",
    "    role=role,\n",
    "    environment={\"USE_GPU\": str(USE_GPU)},\n",
    "    hyperparameters={                                \n",
    "        \"boost_round\": 100,\n",
    "        \"train_data_path\": train_data_path,\n",
    "        \"test_data_path\": test_data_path,\n",
    "    },\n",
    "    instance_type=\"ml.g5.12xlarge\",\n",
    "    instance_count = 1,            \n",
    "    max_run=1000,                                    \n",
    "    keep_alive_period_in_seconds=300                 \n",
    ")"
   ]
  },
  {
   "cell_type": "code",
   "execution_count": null,
   "metadata": {
    "scrolled": true
   },
   "outputs": [],
   "source": [
    "gpu_job.fit()"
   ]
  },
  {
   "cell_type": "code",
   "execution_count": null,
   "metadata": {},
   "outputs": [],
   "source": [
    "USE_GPU = False\n",
    "\n",
    "cpu_job = PyTorch(\n",
    "    source_dir=\"src\",\n",
    "    entry_point=\"train.py\",\n",
    "    framework_version=\"2.3\",\n",
    "    py_version=\"py311\",\n",
    "    role=role,\n",
    "    environment={\"USE_GPU\": str(USE_GPU)},\n",
    "    hyperparameters={                                \n",
    "        \"boost_round\": 100,\n",
    "        \"train_data_path\": train_data_path,\n",
    "        \"test_data_path\": test_data_path,\n",
    "    },\n",
    "    instance_type=\"ml.r5.12xlarge\",\n",
    "    instance_count = 2,            \n",
    "    max_run=1000,                                    \n",
    "    keep_alive_period_in_seconds=300                 \n",
    ")"
   ]
  },
  {
   "cell_type": "code",
   "execution_count": null,
   "metadata": {
    "scrolled": true
   },
   "outputs": [],
   "source": [
    "cpu_job.fit()"
   ]
  }
 ],
 "metadata": {
  "kernelspec": {
   "display_name": "Python 3 (ipykernel)",
   "language": "python",
   "name": "python3"
  },
  "language_info": {
   "codemirror_mode": {
    "name": "ipython",
    "version": 3
   },
   "file_extension": ".py",
   "mimetype": "text/x-python",
   "name": "python",
   "nbconvert_exporter": "python",
   "pygments_lexer": "ipython3",
   "version": "3.10.14"
  }
 },
 "nbformat": 4,
 "nbformat_minor": 4
}
